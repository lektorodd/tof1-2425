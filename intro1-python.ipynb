{
 "cells": [
  {
   "cell_type": "raw",
   "metadata": {
    "vscode": {
     "languageId": "raw"
    }
   },
   "source": [
    "---\n",
    "title: \"Intro til programmering i Python - Del 1\"\n",
    "---"
   ]
  },
  {
   "cell_type": "markdown",
   "metadata": {},
   "source": [
    "\n",
    ":::{.callout-tip collapse=true}\n",
    "## Få denne fila inn i Jupyter Lab?\n",
    "\n",
    "1) Opne Jupyter Lab og velg `Fil > Open from URL...`\n",
    "\n",
    "    ![](/img/importere-steg1.png)\n",
    "\n",
    "2) Lim inn lenka under i feltet: \n",
    "\n",
    "    ```bash\n",
    "    https://raw.githubusercontent.com/lektorodd/tof1-2425/main/intro1-python.ipynb\n",
    "    ```\n",
    "\n",
    "    ![](/img/importere-steg2.png)\n",
    "\n",
    "3) Trykk `Enter` og fila vil opna seg i Jupyter Lab.\n",
    "\n",
    ":::"
   ]
  },
  {
   "cell_type": "markdown",
   "metadata": {},
   "source": [
    "Kort introduksjon til programmering i Python. \n",
    "\n",
    "## Utskrift"
   ]
  },
  {
   "cell_type": "code",
   "execution_count": 1,
   "metadata": {},
   "outputs": [
    {
     "name": "stdout",
     "output_type": "stream",
     "text": [
      "Hei ToF1!\n"
     ]
    }
   ],
   "source": [
    "print(\"Hei ToF1!\")"
   ]
  },
  {
   "cell_type": "code",
   "execution_count": 2,
   "metadata": {},
   "outputs": [
    {
     "name": "stdout",
     "output_type": "stream",
     "text": [
      "Lange tekstar med mange ord\n"
     ]
    }
   ],
   "source": [
    "print(\"Lange tekstar med mange ord\")"
   ]
  },
  {
   "cell_type": "code",
   "execution_count": 3,
   "metadata": {},
   "outputs": [
    {
     "name": "stdout",
     "output_type": "stream",
     "text": [
      "5\n",
      "2+3\n",
      "23\n"
     ]
    }
   ],
   "source": [
    "print(2+3)\n",
    "print(\"2+3\")\n",
    "print(\"2\" + \"3\")"
   ]
  },
  {
   "cell_type": "code",
   "execution_count": 4,
   "metadata": {},
   "outputs": [
    {
     "name": "stdout",
     "output_type": "stream",
     "text": [
      "torodd\n"
     ]
    }
   ],
   "source": [
    "print(\"tor\"+\"odd\")"
   ]
  },
  {
   "cell_type": "code",
   "execution_count": 5,
   "metadata": {},
   "outputs": [
    {
     "ename": "SyntaxError",
     "evalue": "unterminated string literal (detected at line 1) (3785197553.py, line 1)",
     "output_type": "error",
     "traceback": [
      "\u001b[0;36m  Cell \u001b[0;32mIn[5], line 1\u001b[0;36m\u001b[0m\n\u001b[0;31m    print(\"Tof)\u001b[0m\n\u001b[0m          ^\u001b[0m\n\u001b[0;31mSyntaxError\u001b[0m\u001b[0;31m:\u001b[0m unterminated string literal (detected at line 1)\n"
     ]
    }
   ],
   "source": [
    "print(\"Tof)"
   ]
  },
  {
   "cell_type": "markdown",
   "metadata": {},
   "source": [
    "**Tips:** sjekk heilt nederst i feilmeldinga. \n",
    "\n",
    "Her er det ein streng som ikkje er avslutta (det manglar hermeteikn).\n"
   ]
  },
  {
   "cell_type": "markdown",
   "metadata": {},
   "source": [
    "## Variablar"
   ]
  },
  {
   "cell_type": "code",
   "execution_count": 6,
   "metadata": {},
   "outputs": [
    {
     "name": "stdout",
     "output_type": "stream",
     "text": [
      "Torodd 32\n"
     ]
    }
   ],
   "source": [
    "namn = \"Torodd\" \n",
    "alder = 32\n",
    "print(namn, alder)"
   ]
  },
  {
   "cell_type": "markdown",
   "metadata": {},
   "source": [
    "Finare utskrift med `f-streng`:"
   ]
  },
  {
   "cell_type": "code",
   "execution_count": 7,
   "metadata": {},
   "outputs": [
    {
     "name": "stdout",
     "output_type": "stream",
     "text": [
      "Eg heiter Torodd og er 32 år\n"
     ]
    }
   ],
   "source": [
    "print(f\"Eg heiter {namn} og er {alder} år\")"
   ]
  },
  {
   "cell_type": "markdown",
   "metadata": {},
   "source": [
    "Me kan be om input frå brukar: "
   ]
  },
  {
   "cell_type": "code",
   "execution_count": 8,
   "metadata": {},
   "outputs": [
    {
     "name": "stdout",
     "output_type": "stream",
     "text": [
      "Du heiter Torodd og er 32 år\n"
     ]
    }
   ],
   "source": [
    "# Be om input\n",
    "namn = input(\"Kva heiter du?\")\n",
    "alder = input(\"Kor gammal er du?\")\n",
    "\n",
    "print(f\"Du heiter {namn} og er {alder} år\")"
   ]
  },
  {
   "cell_type": "markdown",
   "metadata": {},
   "source": [
    "## Datatypar\n",
    "\n",
    "Det er ulike datatypar i Python:"
   ]
  },
  {
   "cell_type": "code",
   "execution_count": 9,
   "metadata": {},
   "outputs": [],
   "source": [
    "streng = \"tekst\"   # str\n",
    "heiltal = 12       # int\n",
    "desimaltal = 2.0   # float (flyttal)\n",
    "logisk = True      # bool (enten True (1) eller False (0))"
   ]
  },
  {
   "cell_type": "markdown",
   "metadata": {},
   "source": [
    "Datatypar avgjer kva som går og ikkje. Til dømes kan me ikkje legga saman ein teksttren og eit heiltal: "
   ]
  },
  {
   "cell_type": "code",
   "execution_count": 10,
   "metadata": {},
   "outputs": [
    {
     "ename": "NameError",
     "evalue": "name 'heiltall' is not defined",
     "output_type": "error",
     "traceback": [
      "\u001b[0;31m---------------------------------------------------------------------------\u001b[0m",
      "\u001b[0;31mNameError\u001b[0m                                 Traceback (most recent call last)",
      "Cell \u001b[0;32mIn[10], line 1\u001b[0m\n\u001b[0;32m----> 1\u001b[0m \u001b[38;5;28mprint\u001b[39m(streng \u001b[38;5;241m+\u001b[39m \u001b[43mheiltall\u001b[49m)\n",
      "\u001b[0;31mNameError\u001b[0m: name 'heiltall' is not defined"
     ]
    }
   ],
   "source": [
    "print(streng + heiltall)"
   ]
  },
  {
   "cell_type": "markdown",
   "metadata": {},
   "source": [
    "Tekst + tekst går derimot fint:"
   ]
  },
  {
   "cell_type": "code",
   "execution_count": 11,
   "metadata": {},
   "outputs": [
    {
     "name": "stdout",
     "output_type": "stream",
     "text": [
      "teksttekst\n"
     ]
    }
   ],
   "source": [
    "print(streng+streng)"
   ]
  },
  {
   "cell_type": "markdown",
   "metadata": {},
   "source": [
    "Sjå på denne. Ser du \"logikken\"? 😊"
   ]
  },
  {
   "cell_type": "code",
   "execution_count": 12,
   "metadata": {},
   "outputs": [
    {
     "name": "stdout",
     "output_type": "stream",
     "text": [
      "13\n"
     ]
    }
   ],
   "source": [
    "print(heiltal + logisk)"
   ]
  },
  {
   "cell_type": "markdown",
   "metadata": {},
   "source": [
    "Heiltal + desimaltal gjer automatisk om datatypen til desimaltal:"
   ]
  },
  {
   "cell_type": "code",
   "execution_count": 13,
   "metadata": {},
   "outputs": [
    {
     "name": "stdout",
     "output_type": "stream",
     "text": [
      "14.0\n"
     ]
    }
   ],
   "source": [
    "print(heiltal + desimaltal)"
   ]
  },
  {
   "cell_type": "markdown",
   "metadata": {},
   "source": [
    "Ved input blir alt tolka som tekst. Me må derfor konvertera til tal for å rekna med det:"
   ]
  },
  {
   "cell_type": "code",
   "execution_count": 15,
   "metadata": {},
   "outputs": [
    {
     "name": "stdout",
     "output_type": "stream",
     "text": [
      "2008\n"
     ]
    }
   ],
   "source": [
    "# gjere om tekst til heiltal\n",
    "alder = int(input(\"Kor gammal er du?\"))\n",
    "\n",
    "print(2024-alder)"
   ]
  },
  {
   "cell_type": "markdown",
   "metadata": {},
   "source": [
    "## Rekneoperasjonar\n",
    "\n"
   ]
  },
  {
   "cell_type": "code",
   "execution_count": 16,
   "metadata": {},
   "outputs": [],
   "source": [
    "a = 2\n",
    "b = 3"
   ]
  },
  {
   "cell_type": "code",
   "execution_count": 17,
   "metadata": {},
   "outputs": [
    {
     "name": "stdout",
     "output_type": "stream",
     "text": [
      "a + b = 5\n",
      "a - b = -1\n",
      "a * b = 6\n",
      "a / b = 0.6666666666666666\n",
      "a^b = 8\n"
     ]
    }
   ],
   "source": [
    "print(\"a + b =\", a+b)    \n",
    "print(\"a - b =\", a-b)\n",
    "print(\"a * b =\", a*b)\n",
    "print(\"a / b =\", a/b)\n",
    "print(\"a^b =\", a**b)"
   ]
  },
  {
   "cell_type": "markdown",
   "metadata": {},
   "source": [
    "I tillegg til dei \"vanlege\" rekneoperasjonane er det to litt andre operasjonar. Sjå om du ser mønsteret:"
   ]
  },
  {
   "cell_type": "code",
   "execution_count": 18,
   "metadata": {},
   "outputs": [
    {
     "name": "stdout",
     "output_type": "stream",
     "text": [
      "2\n",
      "3\n",
      "\n",
      "1\n",
      "3\n",
      "\n",
      "0\n",
      "3\n"
     ]
    }
   ],
   "source": [
    "print(11%3)\n",
    "print(11//3)\n",
    "print() # blank linje\n",
    "print(10%3)\n",
    "print(10//3)\n",
    "print() # blank linje\n",
    "print(9%3)\n",
    "print(9//3)\n",
    "\n"
   ]
  },
  {
   "cell_type": "markdown",
   "metadata": {},
   "source": [
    "`11//3` er heiltalsdivisjon, altså går 3 opp i 11 tre gonger. \n",
    "\n",
    "`11%3` er resten etter heiltalsdivisjon, altså 2. ($3\\cdot 3=9$ og $11-9=2$)"
   ]
  },
  {
   "cell_type": "markdown",
   "metadata": {},
   "source": [
    "## Oppgåve\n",
    "\n",
    "Brukt det me har lært til no. \n",
    "Lag **kalkulatorar** som: \n",
    "\n",
    "1) Ber brukaren skrive inn eit antal liter og som skriv ut kor mange desiliter det tilsvarer (sørg for at brukaren kan skrive inn desimaltal).\n",
    "2) Ber brukaren skrive inn temperaturen i grader fahrenheit og som skriv ut temperaturen i grader celsius.\n",
    "3) Ber brukaren skrive inn eit antal minutt og som skriv ut kor mange timar (og eventuelt minutt) det svarer til. Her kan det vere nyttig å bruke heiltalsdivisjon og modulus. **input på 63 skal gje output \"1 time og 3 minutt\"**.\n",
    "\n",
    "Får du det til kan du gjerne prøve å utvide kalkulator 3 til å dele inn i veker, dagar, timar og minutt (feks). "
   ]
  },
  {
   "cell_type": "markdown",
   "metadata": {},
   "source": [
    "### Forslag til løysing av oppgåve 1"
   ]
  },
  {
   "cell_type": "code",
   "execution_count": 19,
   "metadata": {},
   "outputs": [
    {
     "name": "stdout",
     "output_type": "stream",
     "text": [
      "3.14 L tilsvarar 31.40 dL\n"
     ]
    }
   ],
   "source": [
    "liter = float(input(\"Skriv inn liter: \"))\n",
    "desiliter = liter * 10\n",
    "\n",
    "print(f\"{liter} L tilsvarar {desiliter:.2f} dL\") \n",
    "#:.2f avrundar til 2 desimalar"
   ]
  },
  {
   "cell_type": "markdown",
   "metadata": {},
   "source": [
    "### Forslag til løysing av oppgåve 3: "
   ]
  },
  {
   "cell_type": "code",
   "execution_count": 20,
   "metadata": {},
   "outputs": [
    {
     "name": "stdout",
     "output_type": "stream",
     "text": [
      "63 min tilsvarar 1 t og 3 min\n"
     ]
    }
   ],
   "source": [
    "minutt_input = int(input(\"Tal minutt: \"))\n",
    "timar =  minutt_input // 60\n",
    "minutt = minutt_input % 60\n",
    "print(f\"{minutt_input} min tilsvarar {timar} t og {minutt} min\")"
   ]
  },
  {
   "cell_type": "code",
   "execution_count": null,
   "metadata": {},
   "outputs": [],
   "source": [
    "# tips for å holda styr på døgn, timar osv. \n",
    "# ha ein variabel for å holda styr på kor mange minutt \n",
    "# du har \"brukt opp\" etterkvart."
   ]
  },
  {
   "cell_type": "markdown",
   "metadata": {},
   "source": [
    "## Neste gong\n",
    "- vilkår\n",
    "- løkker\n",
    "- funksjonar\n",
    "- kanskje numpy og pyplot"
   ]
  },
  {
   "cell_type": "markdown",
   "metadata": {},
   "source": []
  }
 ],
 "metadata": {
  "kernelspec": {
   "display_name": "ai",
   "language": "python",
   "name": "python3"
  },
  "language_info": {
   "codemirror_mode": {
    "name": "ipython",
    "version": 3
   },
   "file_extension": ".py",
   "mimetype": "text/x-python",
   "name": "python",
   "nbconvert_exporter": "python",
   "pygments_lexer": "ipython3",
   "version": "3.12.4"
  }
 },
 "nbformat": 4,
 "nbformat_minor": 2
}
