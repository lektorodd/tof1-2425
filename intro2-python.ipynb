{
 "cells": [
  {
   "cell_type": "raw",
   "id": "4db53d64",
   "metadata": {
    "vscode": {
     "languageId": "raw"
    }
   },
   "source": [
    "---\n",
    "title: \"Intro til programmering i Python - Del 2\"\n",
    "---"
   ]
  },
  {
   "cell_type": "markdown",
   "id": "f6550063-dd2f-40f2-8bad-6e823af59f7f",
   "metadata": {},
   "source": [
    ":::{.callout-tip collapse=true}\n",
    "## Få denne fila inn i Jupyter Lab?\n",
    "\n",
    "1) Opne Jupyter Lab og velg `Fil > Open from URL...`\n",
    "\n",
    "    ![](/img/importere-steg1.png)\n",
    "\n",
    "2) Lim inn lenka under i feltet: **ny lenke her**\n",
    "\n",
    "    ```bash\n",
    "    https://raw.githubusercontent.com/lektorodd/tof1-2425/main/intro2-python.ipynb\n",
    "    ```\n",
    "\n",
    "    ![](/img/importere-steg2.png)\n",
    "\n",
    "3) Trykk `Enter` og fila vil opna seg i Jupyter Lab.\n",
    "\n",
    ":::"
   ]
  },
  {
   "cell_type": "markdown",
   "id": "6c2fe4df-32f8-41f9-9d6e-de0b06618794",
   "metadata": {},
   "source": [
    "## for-løkker\n",
    "\n",
    "Praktiske når me vil gjenta noko fleire gonger, spesielt om me veit kor mange gonger me skal repetera. \n",
    "\n",
    "Sjå på døma under. Ser du kva dei ulike tala i `range()`-funksjonen gjer?\n",
    "\n"
   ]
  },
  {
   "cell_type": "code",
   "execution_count": 2,
   "id": "4ef68108-3173-4211-a505-f5a82a9b7f11",
   "metadata": {},
   "outputs": [
    {
     "name": "stdout",
     "output_type": "stream",
     "text": [
      "0\n",
      "1\n",
      "2\n",
      "3\n",
      "4\n"
     ]
    }
   ],
   "source": [
    "for i in range(5):\n",
    "    print(i)"
   ]
  },
  {
   "cell_type": "code",
   "execution_count": 3,
   "id": "fe33d9f9-138d-4170-a6ee-770565f21f8a",
   "metadata": {},
   "outputs": [
    {
     "name": "stdout",
     "output_type": "stream",
     "text": [
      "5\n",
      "6\n",
      "7\n",
      "8\n",
      "9\n",
      "10\n"
     ]
    }
   ],
   "source": [
    "for i in range(5, 11):\n",
    "    print(i)"
   ]
  },
  {
   "cell_type": "code",
   "execution_count": 4,
   "id": "e59b1a00-cf3f-4bb4-af44-8170ce8bc9ef",
   "metadata": {},
   "outputs": [
    {
     "name": "stdout",
     "output_type": "stream",
     "text": [
      "5\n",
      "7\n",
      "9\n"
     ]
    }
   ],
   "source": [
    "for i in range(5, 11, 2):\n",
    "    print(i)"
   ]
  },
  {
   "cell_type": "code",
   "execution_count": 5,
   "id": "fb10d226-3178-4a3b-ac52-dd2c7b469bbf",
   "metadata": {},
   "outputs": [
    {
     "name": "stdout",
     "output_type": "stream",
     "text": [
      "1\n",
      "2\n",
      "3\n",
      "4\n",
      "5\n",
      "6\n",
      "7\n",
      "8\n",
      "9\n",
      "10\n"
     ]
    }
   ],
   "source": [
    "for tall in range(1, 11):\n",
    "    print(tall)"
   ]
  },
  {
   "cell_type": "markdown",
   "id": "353ff640-1b0b-4922-8842-87710d2bf6b6",
   "metadata": {},
   "source": [
    "### Oppgåve!\n",
    "\n",
    "Bruk informasjonen om `range()` og skriv om koden ovanfor slik at utskriften blir:\n",
    "\n",
    "\t1. Tala frå og med 1 til og med 30.\n",
    "\t2. Dei første 100 partala.\n",
    "\t3. 5-gongen (frå og med 5 til og med 50).\n",
    "\t4. Tal-sekvensen 21, 28, 35, 42."
   ]
  },
  {
   "cell_type": "code",
   "execution_count": 6,
   "id": "fc839262-92c9-4945-ad4a-fffa107a56a0",
   "metadata": {},
   "outputs": [
    {
     "name": "stdout",
     "output_type": "stream",
     "text": [
      "1, 2, 3, 4, 5, 6, 7, 8, 9, 10, 11, 12, 13, 14, 15, 16, 17, 18, 19, 20, 21, 22, 23, 24, 25, 26, 27, 28, 29, 30, "
     ]
    }
   ],
   "source": [
    "for i in range(1, 31):\n",
    "    print(i, end=\", \")"
   ]
  },
  {
   "cell_type": "code",
   "execution_count": 7,
   "id": "8bc590b3-faa3-44ad-b5aa-214bcc933c6d",
   "metadata": {},
   "outputs": [
    {
     "name": "stdout",
     "output_type": "stream",
     "text": [
      "2, 4, 6, 8, 10, 12, 14, 16, 18, 20, 22, 24, 26, 28, 30, 32, 34, 36, 38, 40, 42, 44, 46, 48, 50, 52, 54, 56, 58, 60, 62, 64, 66, 68, 70, 72, 74, 76, 78, 80, 82, 84, 86, 88, 90, 92, 94, 96, 98, 100, 102, 104, 106, 108, 110, 112, 114, 116, 118, 120, 122, 124, 126, 128, 130, 132, 134, 136, 138, 140, 142, 144, 146, 148, 150, 152, 154, 156, 158, 160, 162, 164, 166, 168, 170, 172, 174, 176, 178, 180, 182, 184, 186, 188, 190, 192, 194, 196, 198, 200, "
     ]
    }
   ],
   "source": [
    "for i in range(1, 101):\n",
    "    print(2*i, end=\", \")"
   ]
  },
  {
   "cell_type": "markdown",
   "id": "2bb54776",
   "metadata": {},
   "source": [
    "Me kan også bruka for-løkker for å gå gjennom element i ei liste. "
   ]
  },
  {
   "cell_type": "code",
   "execution_count": 8,
   "id": "e9b8a30c-232b-4537-863d-216511be387a",
   "metadata": {},
   "outputs": [
    {
     "name": "stdout",
     "output_type": "stream",
     "text": [
      "Eple\n",
      "Pære\n",
      "Banan\n",
      "Plomme\n"
     ]
    }
   ],
   "source": [
    "fruktliste = [\"Eple\", \"Pære\", \"Banan\", \"Plomme\"]\n",
    "\n",
    "for frukt in fruktliste:\n",
    "    print(frukt)"
   ]
  },
  {
   "cell_type": "markdown",
   "id": "382d7843",
   "metadata": {},
   "source": [
    "Det er heller ikkje slik at me må bruka `i`-en (eller kva me no vel å kalla den) i løkka. Me kan kun bruka løkka for å gjenta noko eit visst antal gonger."
   ]
  },
  {
   "cell_type": "code",
   "execution_count": 9,
   "id": "a6dc6ec7-46d1-4d28-9923-2a721e84470e",
   "metadata": {},
   "outputs": [
    {
     "name": "stdout",
     "output_type": "stream",
     "text": [
      "Torodd\n",
      "Torodd\n",
      "Torodd\n",
      "Torodd\n",
      "Torodd\n"
     ]
    }
   ],
   "source": [
    "for i in range(5):\n",
    "    print(\"Torodd\")"
   ]
  },
  {
   "cell_type": "markdown",
   "id": "ec7b53bb-e3c0-4e30-92d2-4b7ac5010ee6",
   "metadata": {},
   "source": [
    "## Vilkår og logiske operatorar\n",
    "\n",
    "Handlar om boolske variablar (som me snakka om sist)"
   ]
  },
  {
   "cell_type": "code",
   "execution_count": 10,
   "id": "95e36bb6-d9a0-4859-952b-8c42caf0a715",
   "metadata": {},
   "outputs": [
    {
     "name": "stdout",
     "output_type": "stream",
     "text": [
      "False\n",
      "True\n",
      "False\n",
      "True\n",
      "False\n",
      "True\n"
     ]
    }
   ],
   "source": [
    "a = 4\n",
    "b = 5\n",
    "\n",
    "print(a == b)  # like?\n",
    "print(a <= b)  # mindre eller lik?\n",
    "print(a >= b)  # større eller lik?\n",
    "print(a < b)   # mindre enn?\n",
    "print(a > b)   # større enn?\n",
    "print(a != b)  # ulik"
   ]
  },
  {
   "cell_type": "code",
   "execution_count": 11,
   "id": "7ca9fd68-6aea-425c-8a3a-239ab9de43b0",
   "metadata": {},
   "outputs": [
    {
     "name": "stdout",
     "output_type": "stream",
     "text": [
      "True\n",
      "False\n"
     ]
    }
   ],
   "source": [
    "# kan kombinere\n",
    "\n",
    "print(a<b or a>b)       # minst ein av dei må stemma\n",
    "print(a<b and a>b)      # begge må stemma"
   ]
  },
  {
   "cell_type": "markdown",
   "id": "d5be6dce-480c-49f7-a67a-084022b2f31d",
   "metadata": {},
   "source": [
    "### Oppgåve\n",
    "\n",
    "Sjekk om eit tal (input) er eit **partal større enn 100**. \n",
    "\n",
    "(hint: modulus)"
   ]
  },
  {
   "cell_type": "code",
   "execution_count": 12,
   "id": "a80c5411-e776-48ce-be05-00fca46cf788",
   "metadata": {},
   "outputs": [
    {
     "name": "stdout",
     "output_type": "stream",
     "text": [
      "False\n"
     ]
    }
   ],
   "source": [
    "# hente inn tal og gjere om til heiltal\n",
    "tal = int(input(\"Skriv inn eit tal: \"))\n",
    "          \n",
    "# sjekke om talet er både partal og større enn 100\n",
    "# skrive ut resultatet\n",
    "print(tal>100 and tal%2==0)\n"
   ]
  },
  {
   "cell_type": "markdown",
   "id": "18abae55-8cb1-46e3-9077-d497c6583e03",
   "metadata": {},
   "source": [
    "## if/else-setningar\n",
    "\n",
    "Gjer at me kan ta valg i koden basert på vilkår"
   ]
  },
  {
   "cell_type": "code",
   "execution_count": 13,
   "id": "87f5abb8-fe0a-4d7f-b2da-25d33a8b651b",
   "metadata": {},
   "outputs": [
    {
     "name": "stdout",
     "output_type": "stream",
     "text": [
      "100 er ikkje større enn 100 og partal\n"
     ]
    }
   ],
   "source": [
    "# hente inn tal og gjere om til heiltal\n",
    "tal = int(input(\"Skriv inn eit tal: \"))\n",
    "\n",
    "if tal>100 and tal%2==0:\n",
    "    print(f\"{tal} er større enn 100 og partal\")\n",
    "else:\n",
    "    print(f\"{tal} er ikkje større enn 100 og partal\")"
   ]
  },
  {
   "cell_type": "code",
   "execution_count": 14,
   "id": "864683aa-51fa-4dea-be38-0459b866fc4a",
   "metadata": {},
   "outputs": [
    {
     "name": "stdout",
     "output_type": "stream",
     "text": [
      "Du kan lærekøyra\n"
     ]
    }
   ],
   "source": [
    "alder = int(input(\"Skriv inn alderen din: \"))\n",
    "\n",
    "# if elif else\n",
    "if alder < 16:\n",
    "    print(\"Du er ikkje gamal nok til å køyra bil\")\n",
    "elif alder < 18:\n",
    "    print(\"Du kan lærekøyra\")\n",
    "else:\n",
    "    print(\"Du kan ta lappen\")\n"
   ]
  },
  {
   "cell_type": "markdown",
   "id": "99b39b4c-eb1d-4c3e-95a0-ec3d79fa58f4",
   "metadata": {},
   "source": [
    "## While-løkker"
   ]
  },
  {
   "cell_type": "markdown",
   "id": "dca24345",
   "metadata": {},
   "source": [
    "Løkker som er nyttige når me ikkje veit kor mange gonger me skal gjenta noko. Løkka held fram så lenge vilkåret er sant."
   ]
  },
  {
   "cell_type": "code",
   "execution_count": 15,
   "id": "3775cbe1-9db6-4838-8f53-609c2c9a3d3d",
   "metadata": {},
   "outputs": [
    {
     "name": "stdout",
     "output_type": "stream",
     "text": [
      "1, 2, 3, 4, 5, 6, 7, 8, 9, 10, "
     ]
    }
   ],
   "source": [
    "x = 1\n",
    "\n",
    "while x < 11:\n",
    "    print(x, end=\", \")\n",
    "    x = x + 1            # kan og skriva: x += 1"
   ]
  },
  {
   "cell_type": "code",
   "execution_count": 16,
   "id": "6cd16441-e303-4ee3-841e-1a98060928f8",
   "metadata": {},
   "outputs": [
    {
     "name": "stdout",
     "output_type": "stream",
     "text": [
      "11\n"
     ]
    }
   ],
   "source": [
    "print(x)"
   ]
  },
  {
   "cell_type": "markdown",
   "id": "f10323ec",
   "metadata": {},
   "source": [
    "::: {.callout-warning}\n",
    "## Uendelege løkker\n",
    "\n",
    "Om vilkåret i ei while-løkke aldri blir usant, vil løkka køyra for alltid. \n",
    "\n",
    "Døme på ein slik kode:\n",
    "    \n",
    "```python\n",
    "x = 1\n",
    "while x < 10:\n",
    "    print(x)\n",
    "```\n",
    "\n",
    "::: "
   ]
  },
  {
   "cell_type": "code",
   "execution_count": 17,
   "id": "2edb3177-a697-4cfd-af16-d7fb13a55f02",
   "metadata": {},
   "outputs": [
    {
     "name": "stdout",
     "output_type": "stream",
     "text": [
      "1, 8, 27, 64, 125, 216, 343, 512, 729, 1000, 1331, 1728, 2197, 2744, 3375, 4096, 4913, 5832, 6859, 8000, 9261, "
     ]
    }
   ],
   "source": [
    "# skrive ut alle kubikktal mindre enn 10 000.\n",
    "tal = 1\n",
    "\n",
    "while tal**3 < 10000:\n",
    "    print(tal**3, end=\", \")\n",
    "    tal += 1"
   ]
  },
  {
   "cell_type": "markdown",
   "id": "fb04c1fe-b5cd-4879-9f7a-6c9f3b6c8c99",
   "metadata": {},
   "source": [
    "## Funksjonar\n",
    "\n",
    "Me kan laga våre eigne funksjonar i python. Dette kan vera alt frå enkle funksjonar som returnerer eit resultat (som matematiske fuksjonar), til meir komplekse funksjonar som gjer fleire ting."
   ]
  },
  {
   "cell_type": "markdown",
   "id": "698d48c6",
   "metadata": {},
   "source": [
    "Me kan t.d. laga ein funksjon for den matematiske funksjonen $f(x) = 3x+4$. "
   ]
  },
  {
   "cell_type": "code",
   "execution_count": 18,
   "id": "f61eb2ba-6d6f-46b3-a66e-d448bfc7c73c",
   "metadata": {},
   "outputs": [],
   "source": [
    "def f(x):\n",
    "    return 3*x + 4"
   ]
  },
  {
   "cell_type": "code",
   "execution_count": 19,
   "id": "900feb95-8188-46a2-a44c-1281024f6273",
   "metadata": {},
   "outputs": [
    {
     "name": "stdout",
     "output_type": "stream",
     "text": [
      "31\n"
     ]
    }
   ],
   "source": [
    "print(f(9))"
   ]
  },
  {
   "cell_type": "code",
   "execution_count": 20,
   "id": "7618e186-2ee5-4e7d-a833-00836446fcd0",
   "metadata": {},
   "outputs": [
    {
     "name": "stdout",
     "output_type": "stream",
     "text": [
      "x = 3, f(x) = 13\n"
     ]
    }
   ],
   "source": [
    "print(f\"x = 3, f(x) = {f(3)}\")"
   ]
  },
  {
   "cell_type": "markdown",
   "id": "e218f127",
   "metadata": {},
   "source": [
    "Funksjonar kan ta inn eitt eller fleire argument. Funksjonen kan *gjera noko* (som feks. printe noko til skjermen) eller *returnere noko* (som feks. eit resultat)."
   ]
  },
  {
   "cell_type": "code",
   "execution_count": 10,
   "id": "5e026177-abf9-45de-94a8-28c392fed6c3",
   "metadata": {},
   "outputs": [
    {
     "name": "stdout",
     "output_type": "stream",
     "text": [
      "Du heiter Torodd og er 33 år\n"
     ]
    }
   ],
   "source": [
    "# helsefunksjon - definerer\n",
    "def helsing(namn, alder):\n",
    "    print(f\"Du heiter {namn} og er {alder} år\")\n",
    "\n",
    "# bruker funksjonen\n",
    "helsing(\"Torodd\", 33)"
   ]
  },
  {
   "cell_type": "markdown",
   "id": "516187ef",
   "metadata": {},
   "source": [
    "### Rekursive funksjonar\n",
    "\n",
    "Funksjonar som kallar seg sjølv. Nyttig når ein t.d. skal rekne ut ledd i ei talfølge som baserer seg på tidlegare ledd.\n",
    "\n",
    "Ledd $n$, $a_n$, i talfølgja $1, 3, 7, 15, \\ldots$ kan me uttrykka som $a_n = 2\\cdot a_{n-1} + 1$."
   ]
  },
  {
   "cell_type": "code",
   "execution_count": 21,
   "id": "51fbe13b-fc60-49e3-857f-acb76a6631a9",
   "metadata": {},
   "outputs": [],
   "source": [
    "# Rekursive formlar \n",
    "def a(n):\n",
    "    if n==1:\n",
    "        return 1\n",
    "    else: \n",
    "        return 2*a(n-1) + 1"
   ]
  },
  {
   "cell_type": "code",
   "execution_count": 22,
   "id": "08bc1344-398c-450f-960d-6e1a9f370676",
   "metadata": {},
   "outputs": [
    {
     "data": {
      "text/plain": [
       "1"
      ]
     },
     "execution_count": 22,
     "metadata": {},
     "output_type": "execute_result"
    }
   ],
   "source": [
    "a(1)"
   ]
  },
  {
   "cell_type": "code",
   "execution_count": 23,
   "id": "912a7fd0-1c43-440a-979a-ee19ca4728cd",
   "metadata": {},
   "outputs": [
    {
     "data": {
      "text/plain": [
       "7"
      ]
     },
     "execution_count": 23,
     "metadata": {},
     "output_type": "execute_result"
    }
   ],
   "source": [
    "a(3)"
   ]
  },
  {
   "cell_type": "code",
   "execution_count": 25,
   "id": "7cf95992",
   "metadata": {},
   "outputs": [
    {
     "name": "stdout",
     "output_type": "stream",
     "text": [
      "1, 3, 7, 15, 31, 63, 127, 255, 511, 1023, ...\n"
     ]
    }
   ],
   "source": [
    "# bruke for-løkke for å skrive ut dei 10 første ledda:\n",
    "for i in range(1, 11):\n",
    "    print(a(i), end=\", \")\n",
    "\n",
    "print(\"...\")"
   ]
  },
  {
   "cell_type": "markdown",
   "id": "efe8af8f",
   "metadata": {},
   "source": [
    "## Oppgåver frå Project Euler\n",
    "\n",
    "[Project Euler](https://projecteuler.net/) er ei nettside med matematiske problem som ein kan løysa ved hjelp av programmering. Me skal sjå på nokre av desse oppgåvene."
   ]
  },
  {
   "cell_type": "markdown",
   "id": "bd7f7726-0877-4106-9216-16228baad796",
   "metadata": {},
   "source": [
    "### Problem 1\n",
    "\n",
    "If we list all the natural numbers below $10$ that are multiples of $3$ or $5$, we get $3, 5, 6$ and $9$. The sum of these multiples is $23$.</p>\n",
    "<p>Find the sum of all the multiples of $3$ or $5$ below $1000$."
   ]
  },
  {
   "cell_type": "markdown",
   "id": "b918f0df-b5e9-41e5-83bc-a31e1f557157",
   "metadata": {},
   "source": [
    "### Problem 2\n",
    "\n",
    "Each new term in the Fibonacci sequence is generated by adding the previous two terms. By starting with $1$ and $2$, the first $10$ terms will be:\n",
    "$$1, 2, 3, 5, 8, 13, 21, 34, 55, 89, \\dots$$\n",
    "\n",
    "By considering the terms in the Fibonacci sequence whose values do not exceed four million, find the sum of the even-valued terms."
   ]
  },
  {
   "cell_type": "code",
   "execution_count": null,
   "id": "65b1ab3d-0eca-49d4-a994-ce5c66522e8b",
   "metadata": {},
   "outputs": [],
   "source": []
  }
 ],
 "metadata": {
  "kernelspec": {
   "display_name": "Python 3 (ipykernel)",
   "language": "python",
   "name": "python3"
  },
  "language_info": {
   "codemirror_mode": {
    "name": "ipython",
    "version": 3
   },
   "file_extension": ".py",
   "mimetype": "text/x-python",
   "name": "python",
   "nbconvert_exporter": "python",
   "pygments_lexer": "ipython3",
   "version": "3.12.4"
  }
 },
 "nbformat": 4,
 "nbformat_minor": 5
}
